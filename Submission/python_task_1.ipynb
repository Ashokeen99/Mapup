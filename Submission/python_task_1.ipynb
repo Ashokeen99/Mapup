{
 "cells": [
  {
   "cell_type": "code",
   "execution_count": 82,
   "id": "c956f55b",
   "metadata": {},
   "outputs": [],
   "source": [
    "import pandas as pd"
   ]
  },
  {
   "cell_type": "code",
   "execution_count": 38,
   "id": "7f56ceb5",
   "metadata": {},
   "outputs": [],
   "source": [
    "def generate_car_matrix(dataset):\n",
    "    \n",
    "    df = pd.read_csv(dataset)\n",
    "\n",
    "    # Create a pivot table using id_1 as index, id_2 as columns, and car as values\n",
    "    car_matrix = df.pivot(index='id_1', columns='id_2', values='car').fillna(0)\n",
    "    for idx in car_matrix.index:\n",
    "        \n",
    "        car_matrix.at[idx, idx] = 0\n",
    "\n",
    "    return car_matrix"
   ]
  },
  {
   "cell_type": "code",
   "execution_count": 39,
   "id": "04f0aafe",
   "metadata": {},
   "outputs": [],
   "source": [
    "def get_type_count(dataset_path):\n",
    "    \n",
    "    df = pd.read_csv(dataset_path)\n",
    "    df['car_type'] = pd.cut(df['car'], bins=[-float('inf'), 15, 25, float('inf')], labels=['low', 'medium', 'high'])\n",
    "    \n",
    "    return dict(df['car_type'].value_counts().sort_index())"
   ]
  },
  {
   "cell_type": "code",
   "execution_count": 40,
   "id": "ebbb8643",
   "metadata": {},
   "outputs": [],
   "source": [
    "import pandas as pd\n",
    "\n",
    "def get_bus_indexes(dataset):\n",
    "    df = pd.read_csv(dataset)\n",
    "\n",
    "    bus_mean = df['bus'].mean()\n",
    "\n",
    "    # Identify indices where bus values are greater than twice the mean\n",
    "    bus_indexes = df[df['bus'] > 2 * bus_mean].index.tolist()\n",
    "\n",
    "    bus_indexes.sort()\n",
    "\n",
    "    return bus_indexes"
   ]
  },
  {
   "cell_type": "code",
   "execution_count": 41,
   "id": "9d9c419c",
   "metadata": {},
   "outputs": [],
   "source": [
    "def filter_routes(dataset):\n",
    "    \n",
    "    df = pd.read_csv(dataset)\n",
    "\n",
    "    # Filter routes based on the condition (average of 'truck' column > 7)\n",
    "    selected_routes = df.groupby('route')['truck'].mean().loc[lambda x: x > 7].index.tolist()\n",
    "\n",
    "    selected_routes.sort()\n",
    "\n",
    "    return selected_routes"
   ]
  },
  {
   "cell_type": "code",
   "execution_count": 42,
   "id": "6d076261",
   "metadata": {},
   "outputs": [],
   "source": [
    "def multiply_matrix(car_matrix):\n",
    "    \n",
    "    modified_matrix = car_matrix.copy()\n",
    "    \n",
    "    for row in modified_matrix.index:\n",
    "        \n",
    "        for col in modified_matrix.columns:\n",
    "            \n",
    "            value = modified_matrix.at[row, col]\n",
    "            if value > 20:\n",
    "                modified_matrix.at[row, col] = value * 0.75\n",
    "            else:\n",
    "                modified_matrix.at[row, col] = value * 1.25\n",
    "\n",
    "    return modified_matrix"
   ]
  },
  {
   "cell_type": "code",
   "execution_count": 43,
   "id": "86f92311",
   "metadata": {},
   "outputs": [],
   "source": [
    "def verify_timestamps(df):\n",
    "   \n",
    "    df['timestamp'] = pd.to_datetime(df['startDay'] + ' ' + df['startTime'], format='%Y-%m-%d %I:%M:%S %p', errors='coerce')\n",
    "    \n",
    "    # Extract day of the week and hour from the timestamp\n",
    "    df['day_of_week'] = df['timestamp'].dt.day_name()\n",
    "    df['hour'] = df['timestamp'].dt.hour\n",
    "\n",
    "    # Check if each (id, id_2) pair has incorrect timestamps\n",
    "    incorrect_timestamps = df.groupby(['id', 'id_2']).apply(lambda group: not (\n",
    "        group['day_of_week'].nunique() == 7 and\n",
    "        group['hour'].nunique() == 24\n",
    "    )).rename('incorrect_timestamps')\n",
    "\n",
    "    return incorrect_timestamps"
   ]
  },
  {
   "cell_type": "code",
   "execution_count": 44,
   "id": "2bc618a8",
   "metadata": {},
   "outputs": [],
   "source": [
    "dataset_path = '/Users/anshulshokeen/Desktop/Untitled Folder/dataset-1.csv'\n",
    "\n",
    "dataset_path2 = '/Users/anshulshokeen/Desktop/Untitled Folder/dataset-2.csv'"
   ]
  },
  {
   "cell_type": "markdown",
   "id": "55acf378",
   "metadata": {},
   "source": [
    "# Task 1"
   ]
  },
  {
   "cell_type": "markdown",
   "id": "1e524a18",
   "metadata": {},
   "source": [
    "### Question 1: Car Matrix Generation\n",
    "\n",
    "Under the function named generate_car_matrix write a logic that takes the dataset-1.csv as a DataFrame. Return a new DataFrame that follows the following rules:\n",
    "\n",
    "1. Values from id_2 as columns\n",
    "2. Values from id_1 as index\n",
    "3. Dataframe should have values from car column\n",
    "4. Diagonal values should be 0."
   ]
  },
  {
   "cell_type": "code",
   "execution_count": 45,
   "id": "a542d700",
   "metadata": {},
   "outputs": [
    {
     "name": "stdout",
     "output_type": "stream",
     "text": [
      "id_2    801    802    803    804    805    806    807    808    809    821  \\\n",
      "id_1                                                                         \n",
      "801    0.00   2.80   6.00   7.70  11.70  13.40  16.90  19.60  21.00  23.52   \n",
      "802    2.80   0.00   3.40   5.20   9.20  10.90  14.30  17.10  18.50  20.92   \n",
      "803    6.00   3.40   0.00   2.00   6.00   7.70  11.10  13.90  15.30  17.72   \n",
      "804    7.70   5.20   2.00   0.00   4.40   6.10   9.50  12.30  13.70  16.12   \n",
      "805   11.70   9.20   6.00   4.40   0.00   2.00   5.40   8.20   9.60  12.02   \n",
      "806   13.40  10.90   7.70   6.10   2.00   0.00   3.80   6.60   8.00  10.42   \n",
      "807   16.90  14.30  11.10   9.50   5.40   3.80   0.00   2.90   4.30   6.82   \n",
      "808   19.60  17.10  13.90  12.30   8.20   6.60   2.90   0.00   1.70   4.12   \n",
      "809   21.00  18.50  15.30  13.70   9.60   8.00   4.30   1.70   0.00   2.92   \n",
      "821   23.52  20.92  17.72  16.12  12.02  10.42   6.82   4.12   2.92   0.00   \n",
      "822   24.67  22.07  18.87  17.27  13.17  11.57   7.97   5.27   4.07   1.80   \n",
      "823   26.53  23.93  20.73  19.13  15.03  13.43   9.83   7.13   5.93   3.67   \n",
      "824   27.92  25.32  22.12  20.52  16.42   7.80  11.22   8.52   7.32   5.06   \n",
      "825   29.08  26.48  23.28  21.68  17.58  15.98  12.38   9.68   8.48   6.22   \n",
      "826   30.87  28.27  25.07  23.47  19.37  17.77  14.17  11.47  10.27   8.01   \n",
      "827   32.53  29.93  26.73  25.13  21.03  19.43  15.83  13.13  11.93   9.43   \n",
      "829   36.32  33.72  30.52  28.92  24.82  23.22  19.62  16.92  15.72  13.26   \n",
      "830   38.27  35.67  32.47  30.87  26.77  25.17  21.57  18.87  17.67  15.17   \n",
      "831   39.24  36.64  33.44  31.84  27.74  26.14  22.54  19.84  18.64  16.15   \n",
      "\n",
      "id_2    822    823    824    825    826    827    829    830    831  \n",
      "id_1                                                                 \n",
      "801   24.67  26.53  27.92  29.08  30.87  32.53  36.32  38.27  39.24  \n",
      "802   22.07  23.93  25.32  26.48  28.27  29.93  33.72  35.67  36.64  \n",
      "803   18.87  20.73  22.12  23.28  25.07  26.73  30.52  32.47  33.44  \n",
      "804   17.27  19.13  20.52  21.68  23.47  25.13  28.92  30.87  31.84  \n",
      "805   13.17  15.03  16.42  17.58  19.37  21.03  24.82  26.77  27.74  \n",
      "806   11.57  13.43  14.82  15.98  17.77  19.43  23.22  25.17  26.14  \n",
      "807    7.97   9.83  11.22  12.38  14.17  15.83  19.62  21.57  22.54  \n",
      "808    5.27   7.13   8.52   9.68  11.47  13.13  16.92  18.87  19.84  \n",
      "809    4.07   5.93   7.32   8.48  10.27  11.93  15.72  17.67  18.64  \n",
      "821    1.80   3.67   5.06   6.22   8.01   9.43  13.26  15.17  16.15  \n",
      "822    0.00   2.21   3.60   4.76   6.55   8.00  11.81  13.74  14.68  \n",
      "823    2.21   0.00   1.79   2.94   4.74   6.15  10.00  11.89  12.87  \n",
      "824    3.60   1.79   0.00   1.71   3.50   4.92   8.77  10.66  11.64  \n",
      "825    4.76   2.94   1.71   0.00   2.20   3.65   7.46   9.35  10.33  \n",
      "826    6.55   4.74   3.50   2.20   0.00   2.05   5.81   7.71   8.69  \n",
      "827    8.00   6.15   4.92   3.65   2.05   0.00   4.14   6.06   7.04  \n",
      "829   11.81  10.00  21.40   7.46   5.81   4.14   0.00   2.38   3.36  \n",
      "830   13.74  11.89  10.66   0.00   7.71   6.06   2.38   0.00   1.39  \n",
      "831   14.68  12.87  11.64  10.33   8.69   7.04   3.36   1.39   0.00  \n"
     ]
    }
   ],
   "source": [
    "result_matrix = generate_car_matrix(dataset_path)\n",
    "print(result_matrix)"
   ]
  },
  {
   "cell_type": "markdown",
   "id": "a35871dd",
   "metadata": {},
   "source": [
    "### Question 2: Car Type Count Calculation\n",
    "\n",
    "Create a Python function named get_type_count that takes the dataset-1.csv as a DataFrame. Add a new categorical column car_type based on values of the column car:\n",
    "\n",
    "1. Low for values less than or equal to 15,\n",
    "2. Medium for values greater than 15 and less than or equal to 25,\n",
    "3. High for values greater than 25."
   ]
  },
  {
   "cell_type": "code",
   "execution_count": 46,
   "id": "055bf724",
   "metadata": {},
   "outputs": [
    {
     "name": "stdout",
     "output_type": "stream",
     "text": [
      "{'low': 196, 'medium': 89, 'high': 56}\n"
     ]
    }
   ],
   "source": [
    "result = get_type_count(dataset_path)\n",
    "print(result)"
   ]
  },
  {
   "cell_type": "markdown",
   "id": "99be7cc9",
   "metadata": {},
   "source": [
    "### Question 3: Bus Count Index Retrieval\n",
    "\n",
    "Create a Python function named get_bus_indexes that takes the dataset-1.csv as a DataFrame. The function should identify and return the indices as a list (sorted in ascending order) where the bus values are greater than twice the mean value of the bus column in the DataFrame."
   ]
  },
  {
   "cell_type": "code",
   "execution_count": 47,
   "id": "1657af4e",
   "metadata": {},
   "outputs": [
    {
     "name": "stdout",
     "output_type": "stream",
     "text": [
      "[2, 7, 12, 17, 25, 30, 54, 64, 70, 97, 144, 145, 149, 154, 160, 201, 206, 210, 215, 234, 235, 245, 250, 309, 314, 319, 322, 323, 334, 340]\n"
     ]
    }
   ],
   "source": [
    "result = get_bus_indexes(dataset_path)\n",
    "print(result)"
   ]
  },
  {
   "cell_type": "markdown",
   "id": "1a6a71a6",
   "metadata": {},
   "source": [
    "### Question 4: Route Filtering\n",
    "\n",
    "Create a python function filter_routes that takes the dataset-1.csv as a DataFrame. The function should return the sorted list of values of column route for which the average of values of truck column is greater than 7."
   ]
  },
  {
   "cell_type": "code",
   "execution_count": 48,
   "id": "8206865e",
   "metadata": {},
   "outputs": [
    {
     "name": "stdout",
     "output_type": "stream",
     "text": [
      "[1, 2, 3, 4, 5, 6, 7, 8, 9, 10]\n"
     ]
    }
   ],
   "source": [
    "result = filter_routes(dataset_path)\n",
    "print(result)"
   ]
  },
  {
   "cell_type": "markdown",
   "id": "3f7ecd6a",
   "metadata": {},
   "source": [
    "### Question 5: Matrix Value Modification\n",
    "\n",
    "Create a Python function named multiply_matrix that takes the resulting DataFrame from Question 1, as input and modifies each value according to the following logic:\n",
    "\n",
    "1. If a value in the DataFrame is greater than 20, multiply those values by 0.75,\n",
    "2. If a value is 20 or less, multiply those values by 1.25.\n",
    "3. The function should return the modified DataFrame which has values rounded to 1 decimal place."
   ]
  },
  {
   "cell_type": "code",
   "execution_count": 49,
   "id": "16aae88b",
   "metadata": {},
   "outputs": [
    {
     "name": "stdout",
     "output_type": "stream",
     "text": [
      "id_2      801      802      803      804      805      806      807      808  \\\n",
      "id_1                                                                           \n",
      "801    0.0000   3.5000   7.5000   9.6250  14.6250  16.7500  21.1250  24.5000   \n",
      "802    3.5000   0.0000   4.2500   6.5000  11.5000  13.6250  17.8750  21.3750   \n",
      "803    7.5000   4.2500   0.0000   2.5000   7.5000   9.6250  13.8750  17.3750   \n",
      "804    9.6250   6.5000   2.5000   0.0000   5.5000   7.6250  11.8750  15.3750   \n",
      "805   14.6250  11.5000   7.5000   5.5000   0.0000   2.5000   6.7500  10.2500   \n",
      "806   16.7500  13.6250   9.6250   7.6250   2.5000   0.0000   4.7500   8.2500   \n",
      "807   21.1250  17.8750  13.8750  11.8750   6.7500   4.7500   0.0000   3.6250   \n",
      "808   24.5000  21.3750  17.3750  15.3750  10.2500   8.2500   3.6250   0.0000   \n",
      "809   15.7500  23.1250  19.1250  17.1250  12.0000  10.0000   5.3750   2.1250   \n",
      "821   17.6400  15.6900  22.1500  20.1500  15.0250  13.0250   8.5250   5.1500   \n",
      "822   18.5025  16.5525  23.5875  21.5875  16.4625  14.4625   9.9625   6.5875   \n",
      "823   19.8975  17.9475  15.5475  23.9125  18.7875  16.7875  12.2875   8.9125   \n",
      "824   20.9400  18.9900  16.5900  15.3900  20.5250   9.7500  14.0250  10.6500   \n",
      "825   21.8100  19.8600  17.4600  16.2600  21.9750  19.9750  15.4750  12.1000   \n",
      "826   23.1525  21.2025  18.8025  17.6025  24.2125  22.2125  17.7125  14.3375   \n",
      "827   24.3975  22.4475  20.0475  18.8475  15.7725  24.2875  19.7875  16.4125   \n",
      "829   27.2400  25.2900  22.8900  21.6900  18.6150  17.4150  24.5250  21.1500   \n",
      "830   28.7025  26.7525  24.3525  23.1525  20.0775  18.8775  16.1775  23.5875   \n",
      "831   29.4300  27.4800  25.0800  23.8800  20.8050  19.6050  16.9050  24.8000   \n",
      "\n",
      "id_2      809      821      822      823      824      825      826      827  \\\n",
      "id_1                                                                           \n",
      "801   15.7500  17.6400  18.5025  19.8975  20.9400  21.8100  23.1525  24.3975   \n",
      "802   23.1250  15.6900  16.5525  17.9475  18.9900  19.8600  21.2025  22.4475   \n",
      "803   19.1250  22.1500  23.5875  15.5475  16.5900  17.4600  18.8025  20.0475   \n",
      "804   17.1250  20.1500  21.5875  23.9125  15.3900  16.2600  17.6025  18.8475   \n",
      "805   12.0000  15.0250  16.4625  18.7875  20.5250  21.9750  24.2125  15.7725   \n",
      "806   10.0000  13.0250  14.4625  16.7875  18.5250  19.9750  22.2125  24.2875   \n",
      "807    5.3750   8.5250   9.9625  12.2875  14.0250  15.4750  17.7125  19.7875   \n",
      "808    2.1250   5.1500   6.5875   8.9125  10.6500  12.1000  14.3375  16.4125   \n",
      "809    0.0000   3.6500   5.0875   7.4125   9.1500  10.6000  12.8375  14.9125   \n",
      "821    3.6500   0.0000   2.2500   4.5875   6.3250   7.7750  10.0125  11.7875   \n",
      "822    5.0875   2.2500   0.0000   2.7625   4.5000   5.9500   8.1875  10.0000   \n",
      "823    7.4125   4.5875   2.7625   0.0000   2.2375   3.6750   5.9250   7.6875   \n",
      "824    9.1500   6.3250   4.5000   2.2375   0.0000   2.1375   4.3750   6.1500   \n",
      "825   10.6000   7.7750   5.9500   3.6750   2.1375   0.0000   2.7500   4.5625   \n",
      "826   12.8375  10.0125   8.1875   5.9250   4.3750   2.7500   0.0000   2.5625   \n",
      "827   14.9125  11.7875  10.0000   7.6875   6.1500   4.5625   2.5625   0.0000   \n",
      "829   19.6500  16.5750  14.7625  12.5000  16.0500   9.3250   7.2625   5.1750   \n",
      "830   22.0875  18.9625  17.1750  14.8625  13.3250   0.0000   9.6375   7.5750   \n",
      "831   23.3000  20.1875  18.3500  16.0875  14.5500  12.9125  10.8625   8.8000   \n",
      "\n",
      "id_2      829      830      831  \n",
      "id_1                             \n",
      "801   27.2400  28.7025  29.4300  \n",
      "802   25.2900  26.7525  27.4800  \n",
      "803   22.8900  24.3525  25.0800  \n",
      "804   21.6900  23.1525  23.8800  \n",
      "805   18.6150  20.0775  20.8050  \n",
      "806   17.4150  18.8775  19.6050  \n",
      "807   24.5250  16.1775  16.9050  \n",
      "808   21.1500  23.5875  24.8000  \n",
      "809   19.6500  22.0875  23.3000  \n",
      "821   16.5750  18.9625  20.1875  \n",
      "822   14.7625  17.1750  18.3500  \n",
      "823   12.5000  14.8625  16.0875  \n",
      "824   10.9625  13.3250  14.5500  \n",
      "825    9.3250  11.6875  12.9125  \n",
      "826    7.2625   9.6375  10.8625  \n",
      "827    5.1750   7.5750   8.8000  \n",
      "829    0.0000   2.9750   4.2000  \n",
      "830    2.9750   0.0000   1.7375  \n",
      "831    4.2000   1.7375   0.0000  \n"
     ]
    }
   ],
   "source": [
    "result_modified = multiply_matrix(result_matrix)\n",
    "print(result_modified)"
   ]
  },
  {
   "cell_type": "markdown",
   "id": "6cb67622",
   "metadata": {},
   "source": [
    "### Question 6: Time Check\n",
    "\n",
    "You are given a dataset, dataset-2.csv, containing columns id, id_2, and timestamp (startDay, startTime, endDay, endTime). The goal is to verify the completeness of the time data by checking whether the timestamps for each unique (id, id_2) pair cover a full 24-hour period (from 12:00:00 AM to 11:59:59 PM) and span all 7 days of the week (from Monday to Sunday).\n",
    "\n",
    "Create a function that accepts dataset-2.csv as a DataFrame and returns a boolean series that indicates if each (id, id_2) pair has incorrect timestamps. The boolean series must have multi-index (id, id_2)."
   ]
  },
  {
   "cell_type": "code",
   "execution_count": 107,
   "id": "3521e320",
   "metadata": {},
   "outputs": [
    {
     "name": "stderr",
     "output_type": "stream",
     "text": [
      "/var/folders/wr/n1971vnj54g0_gff9ljw1kwr0000gn/T/ipykernel_41067/3994128818.py:8: FutureWarning: In a future version, the Index constructor will not infer numeric dtypes when passed object-dtype sequences (matching Series behavior)\n",
      "  df['day_of_week'] = df['timestamp'].dt.day_name()\n"
     ]
    },
    {
     "name": "stdout",
     "output_type": "stream",
     "text": [
      "id       id_2    \n",
      "1014000  -1          True\n",
      "1014002  -1          True\n",
      "1014003  -1          True\n",
      "1030000  -1          True\n",
      "          1030002    True\n",
      "                     ... \n",
      "1330016   1330006    True\n",
      "          1330008    True\n",
      "          1330010    True\n",
      "          1330012    True\n",
      "          1330014    True\n",
      "Name: incorrect_timestamps, Length: 9254, dtype: bool\n"
     ]
    }
   ],
   "source": [
    "df_dataset2 = pd.read_csv(dataset_path2)\n",
    "result = verify_timestamps(df_dataset2)\n",
    "print(result)"
   ]
  }
 ],
 "metadata": {
  "kernelspec": {
   "display_name": "Python 3 (ipykernel)",
   "language": "python",
   "name": "python3"
  },
  "language_info": {
   "codemirror_mode": {
    "name": "ipython",
    "version": 3
   },
   "file_extension": ".py",
   "mimetype": "text/x-python",
   "name": "python",
   "nbconvert_exporter": "python",
   "pygments_lexer": "ipython3",
   "version": "3.11.4"
  }
 },
 "nbformat": 4,
 "nbformat_minor": 5
}
